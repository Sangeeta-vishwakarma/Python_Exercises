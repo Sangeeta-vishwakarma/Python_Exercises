{
 "cells": [
  {
   "cell_type": "markdown",
   "id": "a3b2ad18",
   "metadata": {},
   "source": [
    "1.User will input (3ages).Find the oldest one"
   ]
  },
  {
   "cell_type": "code",
   "execution_count": 4,
   "id": "aa237d7d",
   "metadata": {},
   "outputs": [
    {
     "name": "stdout",
     "output_type": "stream",
     "text": [
      "Enter first age : 33.6\n",
      "Enter second age : 33\n",
      "Enter third age : 33.2\n",
      "Age1 is oldest.\n"
     ]
    }
   ],
   "source": [
    "age1 = (input(\"Enter first age : \"))\n",
    "age2 = (input(\"Enter second age : \"))\n",
    "age3 = (input(\"Enter third age : \"))\n",
    "if age1>age2 and age1>age3 :\n",
    "    print(\"Age1 is oldest.\")\n",
    "elif age2>age1 and age2>age3 :\n",
    "    print(\"Age2 is oldest.\")\n",
    "else:\n",
    "    print(\"Age3 is oldest.\")"
   ]
  },
  {
   "cell_type": "markdown",
   "id": "ee6feb4c",
   "metadata": {},
   "source": [
    "2.Write a program that will convert celsius value to fahrenheit"
   ]
  },
  {
   "cell_type": "code",
   "execution_count": 8,
   "id": "742ca8b6",
   "metadata": {},
   "outputs": [
    {
     "name": "stdout",
     "output_type": "stream",
     "text": [
      "Enter the value celcius : 1\n",
      "After converting celcius value to fahrenheit :  33.8\n"
     ]
    }
   ],
   "source": [
    "cel = float(input(\"Enter the value celcius : \"))\n",
    "fahrenheit = ((cel*9)/5)+32\n",
    "print(\"After converting celcius value to fahrenheit : \",fahrenheit)"
   ]
  },
  {
   "cell_type": "markdown",
   "id": "f08c6d22",
   "metadata": {},
   "source": [
    "3.User will input (2numbers).Write a program to swap the numbers"
   ]
  },
  {
   "cell_type": "code",
   "execution_count": 12,
   "id": "c4f84e72",
   "metadata": {},
   "outputs": [
    {
     "name": "stdout",
     "output_type": "stream",
     "text": [
      "Enter the 1st number :10\n",
      "Enter the 2nd number :5\n",
      " after swapping the numbers:\n",
      "Enter the 1st number : 10\n",
      "Enter the 1st number : 5\n"
     ]
    }
   ],
   "source": [
    "a = int(input(\"Enter the 1st number :\"))\n",
    "b = int(input(\"Enter the 2nd number :\"))\n",
    "a,b=b,a\n",
    "print(\" after swapping the numbers:\")\n",
    "print(\"Enter the 1st number :\",a)\n",
    "print(\"Enter the 1st number :\",b)"
   ]
  },
  {
   "cell_type": "markdown",
   "id": "791ba01b",
   "metadata": {},
   "source": [
    "4.Write a program that will give you the sum of 3 digits"
   ]
  },
  {
   "cell_type": "code",
   "execution_count": 15,
   "id": "fa3508b1",
   "metadata": {},
   "outputs": [
    {
     "name": "stdout",
     "output_type": "stream",
     "text": [
      "Enter the first number :1\n",
      "Enter the second number :23\n",
      "Enter the third number :2\n",
      "Sum of all 3 digit is  26.0\n"
     ]
    }
   ],
   "source": [
    "a = float(input(\"Enter the first number :\"))\n",
    "b = float(input(\"Enter the second number :\"))\n",
    "c = float(input(\"Enter the third number :\"))\n",
    "sumDigit = a+b+c\n",
    "print(\"Sum of all 3 digit is \",sumDigit)"
   ]
  },
  {
   "cell_type": "markdown",
   "id": "2d8044d0",
   "metadata": {},
   "source": [
    " 5.Write a program that will reverse a four digit number.Also it checks whether the reverse is true.\n"
   ]
  },
  {
   "cell_type": "code",
   "execution_count": 19,
   "id": "019096e1",
   "metadata": {},
   "outputs": [
    {
     "name": "stdout",
     "output_type": "stream",
     "text": [
      "Enter four digit number :2343\n",
      "Reverse number is : 3432\n",
      "Reverse number is not true.\n"
     ]
    }
   ],
   "source": [
    "num = int(input(\"Enter four digit number :\"))\n",
    "if num>=1000 and num<=9999:\n",
    "    reverse_num = int(str(num)[::-1])\n",
    "    print(\"Reverse number is :\",reverse_num)\n",
    "    if reverse_num == num:\n",
    "        print(\"Reverse number is true.\")\n",
    "    else :\n",
    "        print(\"Reverse number is not true.\")\n",
    "else:\n",
    "    print(\"Enter valid digit.\")\n"
   ]
  },
  {
   "cell_type": "markdown",
   "id": "4a038e63",
   "metadata": {},
   "source": [
    "6.Write a program that will tell whether the number entered by the user is odd or even."
   ]
  },
  {
   "cell_type": "code",
   "execution_count": 26,
   "id": "cc1f0d13",
   "metadata": {},
   "outputs": [
    {
     "name": "stdout",
     "output_type": "stream",
     "text": [
      "Enter the number :6\n",
      "Given number is even.\n",
      "None\n"
     ]
    }
   ],
   "source": [
    "def check_odd_even_num(x):\n",
    "    if x%2!=0:\n",
    "        print(\"Given number is odd.\")\n",
    "    else:\n",
    "        print(\"Given number is even.\")\n",
    "num = int(input(\"Enter the number :\"))\n",
    "result = check_odd_even_num(num)\n",
    "print(result)"
   ]
  },
  {
   "cell_type": "markdown",
   "id": "91c4aa50",
   "metadata": {},
   "source": [
    "7.Write a program that will tell whether the given year is a leap year or not."
   ]
  },
  {
   "cell_type": "code",
   "execution_count": 30,
   "id": "eb43f3e4",
   "metadata": {},
   "outputs": [
    {
     "name": "stdout",
     "output_type": "stream",
     "text": [
      "Given year is leap year.\n"
     ]
    }
   ],
   "source": [
    "def year(x):\n",
    "    if x%4==0:\n",
    "        if x%100==0:\n",
    "            if x%400==0:\n",
    "                print(\"Given year is leap year.\")\n",
    "            else:\n",
    "                print(\"Given year is not leap year.\")\n",
    "        else:\n",
    "            print(\"Given year is leap year.\")\n",
    "    else:\n",
    "        print(\"Given year is not leap year.\")\n",
    "year(2024)"
   ]
  },
  {
   "cell_type": "markdown",
   "id": "caac624f",
   "metadata": {},
   "source": [
    "8.Write a program to find the euclidean distance between two coordinates.\n"
   ]
  },
  {
   "cell_type": "code",
   "execution_count": 42,
   "id": "99ffe0e6",
   "metadata": {},
   "outputs": [
    {
     "name": "stdout",
     "output_type": "stream",
     "text": [
      "Enter the first co-ordinate :2\n",
      "Enter the second co-ordinate :3\n",
      "Enter the third co-ordinate :4\n",
      "Enter the fourth co-ordinate :5\n",
      "Euclidean distance between the co-ordinate is:  2.8284271247461903\n"
     ]
    }
   ],
   "source": [
    "import math\n",
    "def euclidean_distance(x1,y1,x2,y2):\n",
    "    distance = math.sqrt((x1-x2)**2+(y1-y2)**2)\n",
    "    return distance\n",
    "x1 = int(input(\"Enter the first co-ordinate :\"))\n",
    "y1 = int(input(\"Enter the second co-ordinate :\"))\n",
    "x2 = int(input(\"Enter the third co-ordinate :\"))\n",
    "y2 = int(input(\"Enter the fourth co-ordinate :\"))\n",
    "distance = euclidean_distance(x1,y1,x2,y2)\n",
    "print(\"Euclidean distance between the co-ordinate is: \", distance)"
   ]
  },
  {
   "cell_type": "markdown",
   "id": "00595bd9",
   "metadata": {},
   "source": [
    "9.Write a program that take a user inputr of three angles and will find out whether it can form a triangle or not.\n"
   ]
  },
  {
   "cell_type": "code",
   "execution_count": 45,
   "id": "ead895e6",
   "metadata": {},
   "outputs": [
    {
     "name": "stdout",
     "output_type": "stream",
     "text": [
      "Enter the first angle in degree:90\n",
      "Enter the second angle in degree:70\n",
      "Enter the third angle in degree:20\n",
      "Given angles form a traingle.\n",
      "None\n"
     ]
    }
   ],
   "source": [
    "def triangle_or_not(x,y,z):\n",
    "    if x+y+z == 180:\n",
    "        print(\"Given angles form a traingle.\")\n",
    "    else:\n",
    "        print(\"Given angles do not form traingle.\")\n",
    "a = int(input(\"Enter the first angle in degree:\"))\n",
    "b = int(input(\"Enter the second angle in degree:\"))\n",
    "c = int(input(\"Enter the third angle in degree:\"))\n",
    "triangle_or_not(a,b,c)"
   ]
  },
  {
   "cell_type": "markdown",
   "id": "51e443a0",
   "metadata": {},
   "source": [
    "10.Write a program that will take user input of cost price and selling price and determines whether its a loss or a profit\n"
   ]
  },
  {
   "cell_type": "code",
   "execution_count": 50,
   "id": "d6738b5c",
   "metadata": {},
   "outputs": [
    {
     "name": "stdout",
     "output_type": "stream",
     "text": [
      "Enter the cost price:23\n",
      "Enter the selling price:25\n",
      "Oops! It's loss\n",
      "None\n"
     ]
    }
   ],
   "source": [
    "def check_loss_profit(cost_price,selling_price):\n",
    "    \n",
    "    if cost_price > selling_price:\n",
    "        print(\"Congrats! You have profit.\")\n",
    "    elif cost_price < selling_price:\n",
    "            print(\"Oops! It's loss\")\n",
    "    else:\n",
    "        print(\"You don't have any profit or loss\")\n",
    "        \n",
    "        \n",
    "a = int(input(\"Enter the cost price:\"))\n",
    "b = int(input(\"Enter the selling price:\"))\n",
    "check_loss_profit(a,b)\n",
    "            "
   ]
  },
  {
   "cell_type": "markdown",
   "id": "dad9f46c",
   "metadata": {},
   "source": [
    "11.Write a program to find the simple interest when the value of principle,rate of interest and time period is given."
   ]
  },
  {
   "cell_type": "code",
   "execution_count": 52,
   "id": "862c2937",
   "metadata": {},
   "outputs": [
    {
     "name": "stdout",
     "output_type": "stream",
     "text": [
      "Enter the principle amount: 200\n",
      "Enter the rate for simple interest: 1\n",
      "Enter the time period :2\n",
      "Calculated Simple Interest is  4.0\n"
     ]
    }
   ],
   "source": [
    "def simple_interest(principle,rate,time):\n",
    "    sI = (principle*rate*time)/100\n",
    "    return sI\n",
    "a = int(input(\"Enter the principle amount: \"))\n",
    "b = int(input(\"Enter the rate for simple interest: \"))\n",
    "c = int(input(\"Enter the time period :\"))\n",
    "result = simple_interest(a,b,c)\n",
    "print(\"Calculated Simple Interest is \",result)"
   ]
  },
  {
   "cell_type": "markdown",
   "id": "e0710aaa",
   "metadata": {},
   "source": [
    "12.Write a program to find the volume of the cylinder. Also find the cost when ,when the cost of 1litre milk is 40Rs.\n"
   ]
  },
  {
   "cell_type": "code",
   "execution_count": 1,
   "id": "112c18ae",
   "metadata": {},
   "outputs": [
    {
     "name": "stdout",
     "output_type": "stream",
     "text": [
      "Enter the radius of cylinder in meter: 23\n",
      "Enter the height of cylinder in meter : 1\n",
      "Volume of Cylinder is given  1662.5714285714284\n",
      "Enter the litre of milk : 4\n",
      "The cost of milk  4 litre is  160\n"
     ]
    }
   ],
   "source": [
    "def volume_cylinder(radius,height):\n",
    "    volume = 22/7*((radius**2)*height)\n",
    "    return volume\n",
    "\n",
    "def cost_of_milk(milk_litre):\n",
    "    cost = milk_litre*40\n",
    "    return cost\n",
    "\n",
    "a = int(input(\"Enter the radius of cylinder in meter: \"))\n",
    "b = int(input(\"Enter the height of cylinder in meter : \"))\n",
    "cylinderVolume = volume_cylinder(a,b)\n",
    "print(\"Volume of Cylinder is given \",cylinderVolume)\n",
    "\n",
    "x = int(input(\"Enter the litre of milk : \"))\n",
    "milk_cost = cost_of_milk(x)\n",
    "print(\"The cost of milk \",x,\"litre is \",milk_cost)"
   ]
  },
  {
   "cell_type": "markdown",
   "id": "d8c75e08",
   "metadata": {},
   "source": [
    "13.Write  a program that will tell whether the given number is divisible by 3 & 6."
   ]
  },
  {
   "cell_type": "code",
   "execution_count": 2,
   "id": "f2018afa",
   "metadata": {},
   "outputs": [
    {
     "name": "stdout",
     "output_type": "stream",
     "text": [
      "Enter the number: 24\n",
      "Given Number is divisble by 3 and 6.\n"
     ]
    }
   ],
   "source": [
    "def divisibleby_3_6(x):\n",
    "    if x%3==0 and x%6==0:\n",
    "        print(\"Given Number is divisble by 3 and 6.\")\n",
    "    else:\n",
    "        print(\"Given number can't be divisible by 3 and 6.\")\n",
    "a = int(input(\"Enter the number: \"))\n",
    "divisibleby_3_6(a)"
   ]
  },
  {
   "cell_type": "markdown",
   "id": "870ef345",
   "metadata": {},
   "source": [
    "14.Write a program that will take three digits from the user and add the square of each digit"
   ]
  },
  {
   "cell_type": "code",
   "execution_count": 7,
   "id": "6ddc885c",
   "metadata": {},
   "outputs": [
    {
     "name": "stdout",
     "output_type": "stream",
     "text": [
      "Enter the number : 2\n",
      "Enter the number : 3\n",
      "Enter the number : 4\n",
      "Square of three digit is:  29\n"
     ]
    }
   ],
   "source": [
    "sum_squares = 0\n",
    "for i in range(1,4):\n",
    "    digit = int(input(\"Enter the number : \"))\n",
    "    sum_squares+=digit**2\n",
    "print(\"Square of three digit is: \",sum_squares)"
   ]
  },
  {
   "cell_type": "markdown",
   "id": "c7c17b5f",
   "metadata": {},
   "source": [
    "15.Write a program that will check whether the number is armstrong number or not."
   ]
  },
  {
   "cell_type": "code",
   "execution_count": 16,
   "id": "7700cc82",
   "metadata": {},
   "outputs": [
    {
     "name": "stdout",
     "output_type": "stream",
     "text": [
      "Enter the number : 123\n",
      "Given number does not belong to Armstrong Number.\n"
     ]
    }
   ],
   "source": [
    "def armstrong_number(number):\n",
    "    num = str(number)\n",
    "    digit = len(num)\n",
    "    sum_of_power = sum(int(single_digit)**digit for single_digit in num)\n",
    "    return sum_of_power==number\n",
    "user = int(input(\"Enter the number : \"))\n",
    "armstrong_number(user)\n",
    "if armstrong_number(user):\n",
    "    print(\"Given number is belongs to Armstrong Number.\")\n",
    "else:\n",
    "    print(\"Given number does not belong to Armstrong Number.\")"
   ]
  },
  {
   "cell_type": "markdown",
   "id": "d9832475",
   "metadata": {},
   "source": [
    "16.Write a program that will take user input of (4 digits number) and check whether the number is narcissist number or not."
   ]
  },
  {
   "cell_type": "code",
   "execution_count": 20,
   "id": "fa107331",
   "metadata": {},
   "outputs": [
    {
     "name": "stdout",
     "output_type": "stream",
     "text": [
      "Enter the 4 digit number : 1634\n",
      "Given number is belongs to Narcisst Number.\n"
     ]
    }
   ],
   "source": [
    "def narcisst_number(number):\n",
    "    num = str(number)\n",
    "    digit = len(num)\n",
    "    int(digit)==4\n",
    "    sum_of_power = sum(int(single_digit)**digit for single_digit in num)\n",
    "    return sum_of_power==number\n",
    "user = int(input(\"Enter the 4 digit number : \"))\n",
    "narcisst_number(user)\n",
    "if narcisst_number(user):\n",
    "    print(\"Given number is belongs to Narcisst Number.\")\n",
    "else:\n",
    "    print(\"Given number does not belong to Narcisst Number.\")"
   ]
  },
  {
   "cell_type": "markdown",
   "id": "a588fa9b",
   "metadata": {},
   "source": [
    "17.Write a program that will give you the in hand salary after deduction of HRA(10%),DA(5%),PF(3%), and tax(if salary is between 5-10 lakh–10%),(11-20lakh–20%),(20< _   – 30%)(0-1lakh print k)."
   ]
  },
  {
   "cell_type": "code",
   "execution_count": 24,
   "id": "d6a45c05",
   "metadata": {},
   "outputs": [
    {
     "name": "stdout",
     "output_type": "stream",
     "text": [
      "Enter your salary amount :1500000\n"
     ]
    },
    {
     "data": {
      "text/plain": [
       "1233000.0"
      ]
     },
     "execution_count": 24,
     "metadata": {},
     "output_type": "execute_result"
    }
   ],
   "source": [
    "def inhand_salary(salary):\n",
    "    hra = (3/100)*salary\n",
    "    da = (5/100)*salary\n",
    "    pf = (3/100)*salary\n",
    "    taxable_income = salary - (hra + da + pf)\n",
    "    if salary>=500000 and salary<=1000000:\n",
    "        tax_percent=10\n",
    "    elif salary>1000000 and salary<=2000000:\n",
    "        tax_percent=20\n",
    "    elif salary>200000:\n",
    "        tax_percent=30\n",
    "    else:\n",
    "        tax_percent=0\n",
    "    tax = (tax_percent/100)*taxable_income\n",
    "    inhand_salaryis = salary - tax\n",
    "    return inhand_salaryis\n",
    "user = int(input(\"Enter your salary amount :\"))\n",
    "inhand_salary(user)\n",
    "    "
   ]
  },
  {
   "cell_type": "markdown",
   "id": "e95959b9",
   "metadata": {},
   "source": [
    "18.Write a menu driven program - 1.cm to ft  2.kl to miles  3.usd to inr  4.exit"
   ]
  },
  {
   "cell_type": "code",
   "execution_count": 7,
   "id": "ab94e9aa",
   "metadata": {},
   "outputs": [
    {
     "name": "stdout",
     "output_type": "stream",
     "text": [
      "\n",
      " Choose the menu.\n",
      "1. Conversion of cm to feet.\n",
      "2. Conversion of kl to miles.\n",
      "3. Conversion of usd to inr.\n",
      "4. Exit. \n",
      "Enter your choice (1-4):1\n",
      "Enter the value in cm :23\n",
      "The conversion of 23.0 into feet is 0.7544000000000001.\n",
      "\n",
      " Choose the menu.\n",
      "1. Conversion of cm to feet.\n",
      "2. Conversion of kl to miles.\n",
      "3. Conversion of usd to inr.\n",
      "4. Exit. \n",
      "Enter your choice (1-4):2\n",
      "Enter the value in km :1\n",
      "The conversion of 1.0 into miles is 0.6213.\n",
      "\n",
      " Choose the menu.\n",
      "1. Conversion of cm to feet.\n",
      "2. Conversion of kl to miles.\n",
      "3. Conversion of usd to inr.\n",
      "4. Exit. \n",
      "Enter your choice (1-4):3\n",
      "Enter the value in usd :1\n",
      "The conversion of 1.0 into inr is 83.0.\n",
      "\n",
      " Choose the menu.\n",
      "1. Conversion of cm to feet.\n",
      "2. Conversion of kl to miles.\n",
      "3. Conversion of usd to inr.\n",
      "4. Exit. \n",
      "Enter your choice (1-4):4\n",
      "Exiting the program.\n"
     ]
    }
   ],
   "source": [
    "def cm_to_feet(cm):\n",
    "    feet = cm*0.0328\n",
    "    return feet\n",
    "def kl_to_miles(kl):\n",
    "    miles = kl*0.6213\n",
    "    return miles\n",
    "def usd_to_inr(usd):\n",
    "    inr = usd*83\n",
    "    return inr\n",
    "def menu_driven():\n",
    "    while True:\n",
    "        print(\"\\n Choose the menu.\")\n",
    "        print(\"1. Conversion of cm to feet.\")\n",
    "        print(\"2. Conversion of kl to miles.\")\n",
    "        print(\"3. Conversion of usd to inr.\")\n",
    "        print(\"4. Exit. \")\n",
    "        choice = float(input(\"Enter your choice (1-4):\"))\n",
    "        if choice == 1:\n",
    "            user1 = float(input(\"Enter the value in cm :\"))\n",
    "            feet1 = cm_to_feet(user1)\n",
    "            print(f\"The conversion of {user1} into feet is {feet1}.\")\n",
    "        elif choice == 2:\n",
    "            user2 = float(input(\"Enter the value in km :\"))\n",
    "            miles1 = kl_to_miles(user2)\n",
    "            print(f\"The conversion of {user2} into miles is {miles1}.\")\n",
    "        elif choice == 3:\n",
    "            user3 = float(input(\"Enter the value in usd :\"))\n",
    "            inr1 = usd_to_inr(user3)\n",
    "            print(f\"The conversion of {user3} into inr is {inr1}.\")\n",
    "        elif choice == 4:\n",
    "            print(\"Exiting the program.\")\n",
    "            break\n",
    "        else:\n",
    "            print(\"Invalid choice.\")\n",
    "if __name__ == \"__main__\":\n",
    "     menu_driven()              "
   ]
  },
  {
   "cell_type": "markdown",
   "id": "7144b8be",
   "metadata": {},
   "source": [
    "# PYTHON BASIC 30 QUESTIONS"
   ]
  },
  {
   "cell_type": "markdown",
   "id": "9d1d3d82",
   "metadata": {},
   "source": [
    "Write a Python program to Reverse a String."
   ]
  },
  {
   "cell_type": "code",
   "execution_count": 12,
   "id": "560784f5",
   "metadata": {},
   "outputs": [
    {
     "name": "stdout",
     "output_type": "stream",
     "text": [
      "Original string: Hello, World!\n",
      "Reversed string: !dlroW ,olleH\n"
     ]
    }
   ],
   "source": [
    "'''def reverse_string(s):\n",
    "    return s[::-1]\n",
    "'''\n",
    "def reverse_string(s):\n",
    "    return ''.join(reversed(s))\n",
    "\n",
    "# Example usage\n",
    "input_string = \"Hello, World!\"\n",
    "reversed_string = reverse_string(input_string)\n",
    "print(\"Original string:\", input_string)\n",
    "print(\"Reversed string:\", reversed_string)"
   ]
  },
  {
   "cell_type": "markdown",
   "id": "20be1862",
   "metadata": {},
   "source": [
    "Write a Python program to Check Palindrome."
   ]
  },
  {
   "cell_type": "code",
   "execution_count": 4,
   "id": "7c89b185",
   "metadata": {},
   "outputs": [
    {
     "name": "stdout",
     "output_type": "stream",
     "text": [
      "Enter the number23\n",
      "The number given by user is not Palindrome.\n"
     ]
    }
   ],
   "source": [
    "# take input number from user\n",
    "num_user = input(\"Enter the number\")\n",
    "\n",
    "# create a function to check palindrome\n",
    "def check_palindrome(num):\n",
    "    # reverse the input number\n",
    "    reversed_num = num[::-1]\n",
    "    if num==reversed_num :     #put the condition\n",
    "        print(\"The number given by user is Palindrome.\")\n",
    "    else:\n",
    "        print(\"The number given by user is not Palindrome.\")\n",
    "        \n",
    "check_palindrome(num_user)\n"
   ]
  },
  {
   "cell_type": "markdown",
   "id": "aa4168de",
   "metadata": {},
   "source": [
    "Write a Python program to Count Vowels in a String."
   ]
  },
  {
   "cell_type": "code",
   "execution_count": 1,
   "id": "7dfea030",
   "metadata": {},
   "outputs": [
    {
     "name": "stdout",
     "output_type": "stream",
     "text": [
      "enter the string : sang\n"
     ]
    },
    {
     "data": {
      "text/plain": [
       "1"
      ]
     },
     "execution_count": 1,
     "metadata": {},
     "output_type": "execute_result"
    }
   ],
   "source": [
    "def count_vowel(str):\n",
    "    vowels = 'aeiouAEIOU'\n",
    "    count = 0\n",
    "    for i in str:\n",
    "        if i in vowels:\n",
    "            count+=1\n",
    "    return count\n",
    "        \n",
    "user = input(\"enter the string : \")\n",
    "count_vowel(user)"
   ]
  },
  {
   "cell_type": "markdown",
   "id": "74bb46e9",
   "metadata": {},
   "source": [
    "Write a Python program to find Fibonacci Sequence."
   ]
  },
  {
   "cell_type": "markdown",
   "id": "9177d300",
   "metadata": {},
   "source": [
    "The Fibonacci sequence is [0,1,1,2,3,5,8,13,....]\n",
    "This sequence starts with [0,1] and in order to get next term add last two terms."
   ]
  },
  {
   "cell_type": "code",
   "execution_count": null,
   "id": "02ce5e69",
   "metadata": {},
   "outputs": [],
   "source": [
    "#define function \n",
    "def fibonacci_seq(num):\n",
    "    feb_seq = [0,1]\n",
    "    for i in range(2,n):   # run loop on \n",
    "    next_term = fib_seq[-1] + fib_seq[-2]\n",
    "    feb_seq.append(next_term)\n",
    "    return feb_seq\n",
    "\n",
    " "
   ]
  }
 ],
 "metadata": {
  "kernelspec": {
   "display_name": "Python 3 (ipykernel)",
   "language": "python",
   "name": "python3"
  },
  "language_info": {
   "codemirror_mode": {
    "name": "ipython",
    "version": 3
   },
   "file_extension": ".py",
   "mimetype": "text/x-python",
   "name": "python",
   "nbconvert_exporter": "python",
   "pygments_lexer": "ipython3",
   "version": "3.11.4"
  }
 },
 "nbformat": 4,
 "nbformat_minor": 5
}
